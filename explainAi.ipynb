{
  "nbformat": 4,
  "nbformat_minor": 0,
  "metadata": {
    "colab": {
      "provenance": [],
      "authorship_tag": "ABX9TyPA9wvkbdNIFXtapdYH0F4y",
      "include_colab_link": true
    },
    "kernelspec": {
      "name": "python3",
      "display_name": "Python 3"
    },
    "language_info": {
      "name": "python"
    }
  },
  "cells": [
    {
      "cell_type": "markdown",
      "metadata": {
        "id": "view-in-github",
        "colab_type": "text"
      },
      "source": [
        "<a href=\"https://colab.research.google.com/github/obisu/BN-Engineering/blob/master/explainAi.ipynb\" target=\"_parent\"><img src=\"https://colab.research.google.com/assets/colab-badge.svg\" alt=\"Open In Colab\"/></a>"
      ]
    },
    {
      "cell_type": "code",
      "execution_count": null,
      "metadata": {
        "colab": {
          "base_uri": "https://localhost:8080/"
        },
        "id": "CFhZBuBK22r5",
        "outputId": "cb43b95b-9b87-48c0-c292-949d7948ca30"
      },
      "outputs": [
        {
          "output_type": "stream",
          "name": "stdout",
          "text": [
            "Collecting shap\n",
            "  Downloading shap-0.44.1-cp310-cp310-manylinux_2_12_x86_64.manylinux2010_x86_64.manylinux_2_17_x86_64.manylinux2014_x86_64.whl (535 kB)\n",
            "\u001b[?25l     \u001b[90m━━━━━━━━━━━━━━━━━━━━━━━━━━━━━━━━━━━━━━━━\u001b[0m \u001b[32m0.0/535.7 kB\u001b[0m \u001b[31m?\u001b[0m eta \u001b[36m-:--:--\u001b[0m\r\u001b[2K     \u001b[91m━━━━━━━━━━\u001b[0m\u001b[91m╸\u001b[0m\u001b[90m━━━━━━━━━━━━━━━━━━━━━━━━━━━━━\u001b[0m \u001b[32m143.4/535.7 kB\u001b[0m \u001b[31m4.1 MB/s\u001b[0m eta \u001b[36m0:00:01\u001b[0m\r\u001b[2K     \u001b[91m━━━━━━━━━━━━━━━━━━━━━━━━━━━━━━━━━━━━━━\u001b[0m\u001b[90m╺\u001b[0m\u001b[90m━\u001b[0m \u001b[32m512.0/535.7 kB\u001b[0m \u001b[31m7.3 MB/s\u001b[0m eta \u001b[36m0:00:01\u001b[0m\r\u001b[2K     \u001b[90m━━━━━━━━━━━━━━━━━━━━━━━━━━━━━━━━━━━━━━━━\u001b[0m \u001b[32m535.7/535.7 kB\u001b[0m \u001b[31m6.6 MB/s\u001b[0m eta \u001b[36m0:00:00\u001b[0m\n",
            "\u001b[?25hRequirement already satisfied: numpy in /usr/local/lib/python3.10/dist-packages (from shap) (1.23.5)\n",
            "Requirement already satisfied: scipy in /usr/local/lib/python3.10/dist-packages (from shap) (1.11.4)\n",
            "Requirement already satisfied: scikit-learn in /usr/local/lib/python3.10/dist-packages (from shap) (1.2.2)\n",
            "Requirement already satisfied: pandas in /usr/local/lib/python3.10/dist-packages (from shap) (1.5.3)\n",
            "Requirement already satisfied: tqdm>=4.27.0 in /usr/local/lib/python3.10/dist-packages (from shap) (4.66.1)\n",
            "Requirement already satisfied: packaging>20.9 in /usr/local/lib/python3.10/dist-packages (from shap) (23.2)\n",
            "Collecting slicer==0.0.7 (from shap)\n",
            "  Downloading slicer-0.0.7-py3-none-any.whl (14 kB)\n",
            "Requirement already satisfied: numba in /usr/local/lib/python3.10/dist-packages (from shap) (0.58.1)\n",
            "Requirement already satisfied: cloudpickle in /usr/local/lib/python3.10/dist-packages (from shap) (2.2.1)\n",
            "Requirement already satisfied: llvmlite<0.42,>=0.41.0dev0 in /usr/local/lib/python3.10/dist-packages (from numba->shap) (0.41.1)\n",
            "Requirement already satisfied: python-dateutil>=2.8.1 in /usr/local/lib/python3.10/dist-packages (from pandas->shap) (2.8.2)\n",
            "Requirement already satisfied: pytz>=2020.1 in /usr/local/lib/python3.10/dist-packages (from pandas->shap) (2023.4)\n",
            "Requirement already satisfied: joblib>=1.1.1 in /usr/local/lib/python3.10/dist-packages (from scikit-learn->shap) (1.3.2)\n",
            "Requirement already satisfied: threadpoolctl>=2.0.0 in /usr/local/lib/python3.10/dist-packages (from scikit-learn->shap) (3.2.0)\n",
            "Requirement already satisfied: six>=1.5 in /usr/local/lib/python3.10/dist-packages (from python-dateutil>=2.8.1->pandas->shap) (1.16.0)\n",
            "Installing collected packages: slicer, shap\n",
            "Successfully installed shap-0.44.1 slicer-0.0.7\n",
            "Requirement already satisfied: numpy in /usr/local/lib/python3.10/dist-packages (1.23.5)\n",
            "Requirement already satisfied: pandas in /usr/local/lib/python3.10/dist-packages (1.5.3)\n",
            "Requirement already satisfied: python-dateutil>=2.8.1 in /usr/local/lib/python3.10/dist-packages (from pandas) (2.8.2)\n",
            "Requirement already satisfied: pytz>=2020.1 in /usr/local/lib/python3.10/dist-packages (from pandas) (2023.4)\n",
            "Requirement already satisfied: numpy>=1.21.0 in /usr/local/lib/python3.10/dist-packages (from pandas) (1.23.5)\n",
            "Requirement already satisfied: six>=1.5 in /usr/local/lib/python3.10/dist-packages (from python-dateutil>=2.8.1->pandas) (1.16.0)\n",
            "Requirement already satisfied: matplotlib in /usr/local/lib/python3.10/dist-packages (3.7.1)\n",
            "Requirement already satisfied: contourpy>=1.0.1 in /usr/local/lib/python3.10/dist-packages (from matplotlib) (1.2.0)\n",
            "Requirement already satisfied: cycler>=0.10 in /usr/local/lib/python3.10/dist-packages (from matplotlib) (0.12.1)\n",
            "Requirement already satisfied: fonttools>=4.22.0 in /usr/local/lib/python3.10/dist-packages (from matplotlib) (4.47.2)\n",
            "Requirement already satisfied: kiwisolver>=1.0.1 in /usr/local/lib/python3.10/dist-packages (from matplotlib) (1.4.5)\n",
            "Requirement already satisfied: numpy>=1.20 in /usr/local/lib/python3.10/dist-packages (from matplotlib) (1.23.5)\n",
            "Requirement already satisfied: packaging>=20.0 in /usr/local/lib/python3.10/dist-packages (from matplotlib) (23.2)\n",
            "Requirement already satisfied: pillow>=6.2.0 in /usr/local/lib/python3.10/dist-packages (from matplotlib) (9.4.0)\n",
            "Requirement already satisfied: pyparsing>=2.3.1 in /usr/local/lib/python3.10/dist-packages (from matplotlib) (3.1.1)\n",
            "Requirement already satisfied: python-dateutil>=2.7 in /usr/local/lib/python3.10/dist-packages (from matplotlib) (2.8.2)\n",
            "Requirement already satisfied: six>=1.5 in /usr/local/lib/python3.10/dist-packages (from python-dateutil>=2.7->matplotlib) (1.16.0)\n"
          ]
        }
      ],
      "source": [
        "!pip install shap\n",
        "!pip install numpy\n",
        "!pip install pandas\n",
        "!pip install matplotlib"
      ]
    },
    {
      "cell_type": "code",
      "source": [
        "!pip install shapely"
      ],
      "metadata": {
        "colab": {
          "base_uri": "https://localhost:8080/"
        },
        "id": "O-49__wsE-C5",
        "outputId": "140003ab-22db-42b7-dad4-04fb34381585"
      },
      "execution_count": null,
      "outputs": [
        {
          "output_type": "stream",
          "name": "stdout",
          "text": [
            "Requirement already satisfied: shapely in /usr/local/lib/python3.10/dist-packages (2.0.2)\n",
            "Requirement already satisfied: numpy>=1.14 in /usr/local/lib/python3.10/dist-packages (from shapely) (1.23.5)\n"
          ]
        }
      ]
    },
    {
      "cell_type": "code",
      "source": [
        "from shapely.geometry import Point, LineString\n",
        "# Create a LineString from coordinate sets\n",
        "line = LineString([(0, 0), (3, 1), (0, 3)])\n",
        "line"
      ],
      "metadata": {
        "colab": {
          "base_uri": "https://localhost:8080/",
          "height": 121
        },
        "id": "J671RnukFQ_A",
        "outputId": "b12fb36a-9b11-4e9e-d05a-feda1af60322"
      },
      "execution_count": null,
      "outputs": [
        {
          "output_type": "execute_result",
          "data": {
            "text/plain": [
              "<LINESTRING (0 0, 3 1, 0 3)>"
            ],
            "image/svg+xml": "<svg xmlns=\"http://www.w3.org/2000/svg\" xmlns:xlink=\"http://www.w3.org/1999/xlink\" width=\"100.0\" height=\"100.0\" viewBox=\"-0.12 -0.12 3.24 3.24\" preserveAspectRatio=\"xMinYMin meet\"><g transform=\"matrix(1,0,0,-1,0,3.0)\"><polyline fill=\"none\" stroke=\"#66cc99\" stroke-width=\"0.06480000000000001\" points=\"0.0,0.0 3.0,1.0 0.0,3.0\" opacity=\"0.8\" /></g></svg>"
          },
          "metadata": {},
          "execution_count": 4
        }
      ]
    },
    {
      "cell_type": "code",
      "source": [
        "from shapely.geometry import Polygon\n",
        "polygon = Polygon([(0, 0), (3, 1), (0, 3)])\n",
        "polygon"
      ],
      "metadata": {
        "colab": {
          "base_uri": "https://localhost:8080/",
          "height": 121
        },
        "id": "KSooVvN9FffK",
        "outputId": "5189711c-62d5-4379-cb33-0ac38e5e707e"
      },
      "execution_count": null,
      "outputs": [
        {
          "output_type": "execute_result",
          "data": {
            "text/plain": [
              "<POLYGON ((0 0, 3 1, 0 3, 0 0))>"
            ],
            "image/svg+xml": "<svg xmlns=\"http://www.w3.org/2000/svg\" xmlns:xlink=\"http://www.w3.org/1999/xlink\" width=\"100.0\" height=\"100.0\" viewBox=\"-0.12 -0.12 3.24 3.24\" preserveAspectRatio=\"xMinYMin meet\"><g transform=\"matrix(1,0,0,-1,0,3.0)\"><path fill-rule=\"evenodd\" fill=\"#66cc99\" stroke=\"#555555\" stroke-width=\"0.06480000000000001\" opacity=\"0.6\" d=\"M 0.0,0.0 L 3.0,1.0 L 0.0,3.0 L 0.0,0.0 z\" /></g></svg>"
          },
          "metadata": {},
          "execution_count": 5
        }
      ]
    },
    {
      "cell_type": "markdown",
      "source": [
        "Explainable Clustering using CNN :"
      ],
      "metadata": {
        "id": "T9aRq2MKL4gG"
      }
    },
    {
      "cell_type": "code",
      "source": [
        "import shap\n",
        "import numpy as np\n",
        "import tensorflow as tf\n",
        "from tensorflow import keras\n",
        "import matplotlib.pyplot as plt\n"
      ],
      "metadata": {
        "id": "3IrDDAb3GHmT"
      },
      "execution_count": null,
      "outputs": []
    },
    {
      "cell_type": "markdown",
      "source": [
        "Train the CNN"
      ],
      "metadata": {
        "id": "hZhGfuQtLv9O"
      }
    },
    {
      "cell_type": "code",
      "source": [
        "# Download the dataset\n",
        "(x_train, y_train), (x_test, y_test) = keras.datasets.fashion_mnist.load_data()\n",
        "# Reshape and normalize data\n",
        "x_train = x_train.reshape(60000, 28, 28, 1).astype(\"float32\") / 255\n",
        "x_test = x_test.reshape(10000, 28, 28, 1).astype(\"float32\") / 255"
      ],
      "metadata": {
        "colab": {
          "base_uri": "https://localhost:8080/"
        },
        "id": "t2X2Gg1TGaOh",
        "outputId": "74b7a677-a458-4d4a-e479-8adc74685aea"
      },
      "execution_count": null,
      "outputs": [
        {
          "output_type": "stream",
          "name": "stdout",
          "text": [
            "Downloading data from https://storage.googleapis.com/tensorflow/tf-keras-datasets/train-labels-idx1-ubyte.gz\n",
            "29515/29515 [==============================] - 0s 0us/step\n",
            "Downloading data from https://storage.googleapis.com/tensorflow/tf-keras-datasets/train-images-idx3-ubyte.gz\n",
            "26421880/26421880 [==============================] - 0s 0us/step\n",
            "Downloading data from https://storage.googleapis.com/tensorflow/tf-keras-datasets/t10k-labels-idx1-ubyte.gz\n",
            "5148/5148 [==============================] - 0s 0us/step\n",
            "Downloading data from https://storage.googleapis.com/tensorflow/tf-keras-datasets/t10k-images-idx3-ubyte.gz\n",
            "4422102/4422102 [==============================] - 0s 0us/step\n"
          ]
        }
      ]
    },
    {
      "cell_type": "markdown",
      "source": [
        "For the CNN model you will use a simple architecture composed of a single convolutional and max pooling layers pair connected to a fully connected layer with 256 units and the output layer with 10 units since there are 10 categories."
      ],
      "metadata": {
        "id": "9NVi4UrSLmNh"
      }
    },
    {
      "cell_type": "code",
      "source": [
        "# Define the model architecture using the functional API\n",
        "inputs = keras.Input(shape=(28, 28, 1))\n",
        "x = keras.layers.Conv2D(32, (3, 3), activation='relu')(inputs)\n",
        "x = keras.layers.MaxPooling2D((2, 2))(x)\n",
        "x = keras.layers.Flatten()(x)\n",
        "x = keras.layers.Dense(256, activation='relu')(x)\n",
        "outputs = keras.layers.Dense(10, activation='softmax')(x)\n",
        "# Create the model with the corresponding inputs and outputs\n",
        "model = keras.Model(inputs=inputs, outputs=outputs, name=\"CNN\")\n",
        "# Compile the model\n",
        "model.compile(\n",
        "      loss=tf.keras.losses.SparseCategoricalCrossentropy(),\n",
        "      optimizer=keras.optimizers.Adam(),\n",
        "      metrics=[tf.keras.metrics.SparseCategoricalAccuracy()]\n",
        "  )\n",
        "# Train it!\n",
        "model.fit(x_train, y_train, epochs=5, validation_data=(x_test, y_test))\n"
      ],
      "metadata": {
        "colab": {
          "base_uri": "https://localhost:8080/"
        },
        "id": "ZtBiQ9w_Gxo6",
        "outputId": "f2a16803-b0b3-4227-b11c-e5204543a3b4"
      },
      "execution_count": null,
      "outputs": [
        {
          "output_type": "stream",
          "name": "stdout",
          "text": [
            "Epoch 1/5\n",
            "1875/1875 [==============================] - 63s 33ms/step - loss: 0.3762 - sparse_categorical_accuracy: 0.8676 - val_loss: 0.3314 - val_sparse_categorical_accuracy: 0.8800\n",
            "Epoch 2/5\n",
            "1875/1875 [==============================] - 56s 30ms/step - loss: 0.2559 - sparse_categorical_accuracy: 0.9060 - val_loss: 0.2767 - val_sparse_categorical_accuracy: 0.8985\n",
            "Epoch 3/5\n",
            "1875/1875 [==============================] - 55s 29ms/step - loss: 0.2065 - sparse_categorical_accuracy: 0.9253 - val_loss: 0.2490 - val_sparse_categorical_accuracy: 0.9101\n",
            "Epoch 4/5\n",
            "1875/1875 [==============================] - 55s 29ms/step - loss: 0.1711 - sparse_categorical_accuracy: 0.9364 - val_loss: 0.2488 - val_sparse_categorical_accuracy: 0.9118\n",
            "Epoch 5/5\n",
            "1875/1875 [==============================] - 56s 30ms/step - loss: 0.1405 - sparse_categorical_accuracy: 0.9473 - val_loss: 0.2522 - val_sparse_categorical_accuracy: 0.9170\n"
          ]
        },
        {
          "output_type": "execute_result",
          "data": {
            "text/plain": [
              "<keras.src.callbacks.History at 0x7ad1fcf1bfd0>"
            ]
          },
          "metadata": {},
          "execution_count": 8
        }
      ]
    },
    {
      "cell_type": "markdown",
      "source": [
        "Explaining the outputs\n",
        "\n",
        "You are aware that the model accurately classifies about 90% of the test set's photos. How, though, is it succeeding? What pixels are being used to categorise images into different classes?\n",
        "\n",
        "You can use SHAP values to respond to these queries.\n",
        "\n",
        "Check the appearance of each category before proceeding:"
      ],
      "metadata": {
        "id": "4E92TcDYLciz"
      }
    },
    {
      "cell_type": "code",
      "source": [
        "# Name each one of the classes\n",
        "class_names = ['T-shirt/top', 'Trouser', 'Pullover', 'Dress', 'Coat',\n",
        "'Sandal', 'Shirt', 'Sneaker', 'Bag', 'Ankle boot']\n",
        "# Save an example for each category in a dict\n",
        "images_dict = dict()\n",
        "for i, l in enumerate(y_train):\n",
        "  if len(images_dict)==10:\n",
        "    break\n",
        "  if l not in images_dict.keys():\n",
        "    images_dict[l] = x_train[i].reshape((28, 28))\n",
        "# Function to plot images\n",
        "def plot_categories(images):\n",
        "  fig, axes = plt.subplots(1, 11, figsize=(16, 15))\n",
        "  axes = axes.flatten()\n",
        "  # Plot an empty canvas\n",
        "  ax = axes[0]\n",
        "  dummy_array = np.array([[[0, 0, 0, 0]]], dtype='uint8')\n",
        "  ax.set_title(\"reference\")\n",
        "  ax.set_axis_off()\n",
        "  ax.imshow(dummy_array, interpolation='nearest')\n",
        "  # Plot an image for every category\n",
        "  for k,v in images.items():\n",
        "    ax = axes[k+1]\n",
        "    ax.imshow(v, cmap=plt.cm.binary)\n",
        "    ax.set_title(f\"{class_names[k]}\")\n",
        "    ax.set_axis_off()\n",
        "  plt.tight_layout()\n",
        "  plt.show()\n",
        "# Fix the indentation issue in the function\n",
        "plot_categories(images_dict)"
      ],
      "metadata": {
        "colab": {
          "base_uri": "https://localhost:8080/",
          "height": 85
        },
        "id": "f4P6h1EaMCMk",
        "outputId": "7991622f-ec41-4976-e7df-bcaad77be80f"
      },
      "execution_count": 14,
      "outputs": [
        {
          "output_type": "display_data",
          "data": {
            "text/plain": [
              "<Figure size 1600x1500 with 11 Axes>"
            ],
            "image/png": "[encoded data removed]"
          },
          "metadata": {}
        }
      ]
    },
    {
      "cell_type": "markdown",
      "source": [
        "DeepExplainer\n",
        "The DeepExplainer class from the shap library will be used to calculate shap values for the model you just trained.\n",
        "\n",
        "You must provide in a model and training examples in order to instantiate this class. Observe that only a portion of the training examples are passed in rather than all of them.\n",
        "\n",
        "This is done because the DeepExplainer object uses a lot of RAM during computations and you might run out of memory."
      ],
      "metadata": {
        "id": "0AxF2pZgUvxQ"
      }
    },
    {
      "cell_type": "code",
      "source": [
        "# Take a random sample of 5000 training images\n",
        "background = x_train[np.random.choice(x_train.shape[0], 5000, replace=False)]\n",
        "# Use DeepExplainer to explain predictions of the model\n",
        "e = shap.DeepExplainer(model, background)\n",
        "# Compute shap values\n",
        "# shap_values = e.shap_values(x_test[1:5])\n"
      ],
      "metadata": {
        "id": "13OIy2VRU1-w"
      },
      "execution_count": null,
      "outputs": []
    },
    {
      "cell_type": "markdown",
      "source": [
        "Now you can compute Shap values for the photos in the test set using the DeepExplainer instance.\n",
        "\n",
        "Make an array with one member for each class from the test set so you can appropriately visualise these values for each class:"
      ],
      "metadata": {
        "id": "JsPK0YriU7-Z"
      }
    },
    {
      "cell_type": "code",
      "source": [
        "# Save an example of each class from the test set\n",
        "x_test_dict = dict()\n",
        "for i, l in enumerate(y_test):\n",
        "if len(x_test_dict)==10:\n",
        "break\n",
        "if l not in x_test_dict.keys():\n",
        "x_test_dict[l] = x_test[i]\n",
        "# Convert to list preserving order of classes\n",
        "x_test_each_class = [x_test_dict[i] for i in sorted(x_test_dict)]\n",
        "# Convert to tensor\n",
        "x_test_each_class = np.asarray(x_test_each_class)\n",
        "# Print shape of tensor\n",
        "print(f\"x_test_each_class tensor has shape: {x_test_each_class.shape}\")\n",
        "# Compute predictions\n",
        "predictions = model.predict(x_test_each_class)\n",
        "# Apply argmax to get predicted class\n",
        "np.argmax(predictions, axis=1)"
      ],
      "metadata": {
        "id": "mjtUMet0VEuA"
      },
      "execution_count": null,
      "outputs": []
    },
    {
      "cell_type": "markdown",
      "source": [
        "Since the test examples are ordered according to the class number and the predictions array is also ordered, the model was able to correctly classify each one of these images."
      ],
      "metadata": {
        "id": "RyOSpQYAVOF3"
      }
    },
    {
      "cell_type": "code",
      "source": [
        "# Compute shap values using DeepExplainer instance\n",
        "shap_values = e.shap_values(x_test_each_class)"
      ],
      "metadata": {
        "id": "_4TvJRnvVU8c"
      },
      "execution_count": null,
      "outputs": []
    },
    {
      "cell_type": "markdown",
      "source": [
        "Now take a look at the computed shap values. To understand the next illustration have these points in mind:\n",
        "\n",
        "Positive shap values are denoted by red color and they represent the pixels that contributed to classifying that image as that particular class.\n",
        "Negative shap values are denoted by blue color and they represent the pixels that contributed to NOT classify that image as that particular class.\n",
        "Each row contains each one of the test images you computed the shap values for.\n",
        "Each column represents the ordered categories that the model could choose from. Notice that shap.image_plot just makes a copy of the classified image, but you can use the plot_categories function you created earlier to show an example of that class for reference\n",
        ""
      ],
      "metadata": {
        "id": "NQHN7VR9VcUA"
      }
    },
    {
      "cell_type": "code",
      "source": [
        "# Plot reference column\n",
        "plot_categories(images_dict)\n",
        "# Print an empty line to separate the two plots\n",
        "print()\n",
        "# Plot shap values\n",
        "shap.image_plot(shap_values, -x_test_each_class)"
      ],
      "metadata": {
        "id": "YQ7sDlWuVZx1"
      },
      "execution_count": null,
      "outputs": []
    },
    {
      "cell_type": "markdown",
      "source": [
        "Now, give yourself some time to comprehend what the story is trying to convey. It seems reasonable that the shapley values along the diagonal are the most common since the model can successfully categorise each of these 10 images. Particularly favourable values considering that the model (accurately) anticipated that class.\n",
        "\n",
        "What else is there to infer from this story? Focus on only one instance. Consider the sixth class, the coat, as an example. It appears that the model had additional \"reasons\" for classifying it as a pullover or shirt. This can be inferred from the fact that certain clases have positive shap values.\n",
        "\n",
        "To make sure that this was the case, let's look at the tensor of predictions:"
      ],
      "metadata": {
        "id": "FZmKLUsKVpPA"
      }
    },
    {
      "cell_type": "code",
      "source": [
        "# Save the probability of belonging to each class for the fifth element of the set\n",
        "coat_probs = predictions[4]\n",
        "# Order the probabilities in ascending order\n",
        "coat_args = np.argsort(coat_probs)\n",
        "# Reverse the list and get the top 3 probabilities\n",
        "top_coat_args = coat_args[::-1][:3]\n",
        "# Print (ordered) top 3 classes\n",
        "for i in list(top_coat_args):\n",
        "print(class_names[i])"
      ],
      "metadata": {
        "id": "7BC8LswzVrYh"
      },
      "execution_count": null,
      "outputs": []
    },
    {
      "cell_type": "markdown",
      "source": [
        "In actuality, the model determined that these 3 classes were the most likely candidates for the coat image. Given how similar these objects are to one another, this makes sense.\n",
        "\n",
        "Take a peek at the first-class t-shirt right now. The pullover and this item are extremely similar, although this one lacks long sleeves. It is expected that white pixels in the vicinity of the long sleeves will have high shap values when categorised as a t-shirt. Additionally, as the model would anticipate that these pixels would be coloured if the item were in fact a pullover, white pixels in this location will result in negative shap values for classification as a pullover.\n",
        "\n",
        "You can get a lot of insight repeating this process for all the classes."
      ],
      "metadata": {
        "id": "tkZIV2agV20j"
      }
    },
    {
      "cell_type": "markdown",
      "source": [
        "Explainable classifier using XGBoost :  Various plots available in SHAP"
      ],
      "metadata": {
        "id": "pNNl5ZDSV_Hc"
      }
    },
    {
      "cell_type": "markdown",
      "source": [
        "Generate the XGB Classifier:"
      ],
      "metadata": {
        "id": "M4T3ybMBWM9S"
      }
    },
    {
      "cell_type": "code",
      "source": [
        "import pandas as pd\n",
        "import shap"
      ],
      "metadata": {
        "id": "j1cdCBocWDwg"
      },
      "execution_count": null,
      "outputs": []
    },
    {
      "cell_type": "code",
      "source": [
        "# import the dataset from Sklearn\n",
        "from sklearn.datasets import load_breast_cancer\n",
        "# Read the DataFrame, first using the feature data\n",
        "data = load_breast_cancer()\n",
        "df = pd.DataFrame(data.data, columns=data.feature_names)\n",
        "# Add a target column, and fill it with the target data\n",
        "df['target'] = data.target\n",
        "# Show the first five rows\n",
        "df.head()"
      ],
      "metadata": {
        "id": "-LnfRsS1Wjpf"
      },
      "execution_count": null,
      "outputs": []
    },
    {
      "cell_type": "code",
      "source": [
        "from sklearn.model_selection import train_test_split\n",
        "from xgboost import XGBClassifier\n",
        "from sklearn.metrics import accuracy_score"
      ],
      "metadata": {
        "id": "ieVX7ew_Ws1P"
      },
      "execution_count": null,
      "outputs": []
    },
    {
      "cell_type": "code",
      "source": [
        "y = df['target'].to_frame() # define Y\n",
        "X = df[df.columns.difference(['target'])] # define X\n",
        "X_train, X_test, y_train, y_test = train_test_split(X, y, test_size=0.20, random_state=42) # create train and test\n",
        "# build model - Xgboost\n",
        "xgb_mod = XGBClassifier(random_state=42,gpu_id=0) # build classifier\n",
        "xgb_mod=xgb_mod.fit(X_train,y_train.values.ravel())\n",
        "# make prediction and check model accuracy\n",
        "y_pred = xgb_mod.predict(X_test)\n",
        "# Performance\n",
        "accuracy = accuracy_score(y_test, y_pred)\n",
        "print(\"Accuracy: %.2f%%\" % (accuracy * 100.0))"
      ],
      "metadata": {
        "id": "SqksoCiAWyy_"
      },
      "execution_count": null,
      "outputs": []
    },
    {
      "cell_type": "markdown",
      "source": [
        "CAPSTONE PROJECT: Explainable ADABoost Classifier\n",
        "\n",
        "\n",
        "\n",
        "The data provided below are the results of a chemical analysis of wines grown in the same region in Italy but derived from three different cultivars. The analysis determined the quantities of 13 constituents found in each of the three types of wines.\n",
        "\n",
        "The dataset had around 13 Features and a 14th column indicating the class of the wine is also included in the set.. Design a classification model with 3 different classifiers namely KNN, SVC and AdaBosst Classifier from the dataset “wine_dataset.csv ” [the original dataset is taken from UCI repository]\n",
        "\n",
        "Dataset has 13 features & 178 samples. Try to Explain the and compare which features were considered most important by every model using the SHAP library and also comment on their explanation accuracy of the same."
      ],
      "metadata": {
        "id": "2Uu-MN1BXDPN"
      }
    }
  ]
}